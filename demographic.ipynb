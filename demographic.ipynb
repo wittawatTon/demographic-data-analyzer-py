{
 "cells": [
  {
   "cell_type": "code",
   "execution_count": 3,
   "id": "48243875-336d-4725-a3e7-130fa3674423",
   "metadata": {},
   "outputs": [],
   "source": [
    "import pandas as pd"
   ]
  },
  {
   "cell_type": "code",
   "execution_count": 4,
   "id": "47b034a6-89f7-4892-a81f-af9d0ff2a253",
   "metadata": {},
   "outputs": [],
   "source": [
    " df = pd.read_csv('adult.data.csv')"
   ]
  },
  {
   "cell_type": "code",
   "execution_count": 20,
   "id": "d421fa69-2ed1-45cc-ba5e-1e0ec50eeae7",
   "metadata": {},
   "outputs": [
    {
     "data": {
      "text/plain": [
       "(32561, 15)"
      ]
     },
     "execution_count": 20,
     "metadata": {},
     "output_type": "execute_result"
    }
   ],
   "source": [
    "df.shape"
   ]
  },
  {
   "cell_type": "code",
   "execution_count": 9,
   "id": "2fe1cbc8-929f-4db0-a746-f16ac92d5f50",
   "metadata": {},
   "outputs": [
    {
     "data": {
      "text/html": [
       "<div>\n",
       "<style scoped>\n",
       "    .dataframe tbody tr th:only-of-type {\n",
       "        vertical-align: middle;\n",
       "    }\n",
       "\n",
       "    .dataframe tbody tr th {\n",
       "        vertical-align: top;\n",
       "    }\n",
       "\n",
       "    .dataframe thead th {\n",
       "        text-align: right;\n",
       "    }\n",
       "</style>\n",
       "<table border=\"1\" class=\"dataframe\">\n",
       "  <thead>\n",
       "    <tr style=\"text-align: right;\">\n",
       "      <th></th>\n",
       "      <th>age</th>\n",
       "      <th>workclass</th>\n",
       "      <th>fnlwgt</th>\n",
       "      <th>education</th>\n",
       "      <th>education-num</th>\n",
       "      <th>marital-status</th>\n",
       "      <th>occupation</th>\n",
       "      <th>relationship</th>\n",
       "      <th>race</th>\n",
       "      <th>sex</th>\n",
       "      <th>capital-gain</th>\n",
       "      <th>capital-loss</th>\n",
       "      <th>hours-per-week</th>\n",
       "      <th>native-country</th>\n",
       "      <th>salary</th>\n",
       "    </tr>\n",
       "  </thead>\n",
       "  <tbody>\n",
       "    <tr>\n",
       "      <th>0</th>\n",
       "      <td>39</td>\n",
       "      <td>State-gov</td>\n",
       "      <td>77516</td>\n",
       "      <td>Bachelors</td>\n",
       "      <td>13</td>\n",
       "      <td>Never-married</td>\n",
       "      <td>Adm-clerical</td>\n",
       "      <td>Not-in-family</td>\n",
       "      <td>White</td>\n",
       "      <td>Male</td>\n",
       "      <td>2174</td>\n",
       "      <td>0</td>\n",
       "      <td>40</td>\n",
       "      <td>United-States</td>\n",
       "      <td>&lt;=50K</td>\n",
       "    </tr>\n",
       "    <tr>\n",
       "      <th>1</th>\n",
       "      <td>50</td>\n",
       "      <td>Self-emp-not-inc</td>\n",
       "      <td>83311</td>\n",
       "      <td>Bachelors</td>\n",
       "      <td>13</td>\n",
       "      <td>Married-civ-spouse</td>\n",
       "      <td>Exec-managerial</td>\n",
       "      <td>Husband</td>\n",
       "      <td>White</td>\n",
       "      <td>Male</td>\n",
       "      <td>0</td>\n",
       "      <td>0</td>\n",
       "      <td>13</td>\n",
       "      <td>United-States</td>\n",
       "      <td>&lt;=50K</td>\n",
       "    </tr>\n",
       "  </tbody>\n",
       "</table>\n",
       "</div>"
      ],
      "text/plain": [
       "   age         workclass  fnlwgt  education  education-num  \\\n",
       "0   39         State-gov   77516  Bachelors             13   \n",
       "1   50  Self-emp-not-inc   83311  Bachelors             13   \n",
       "\n",
       "       marital-status       occupation   relationship   race   sex  \\\n",
       "0       Never-married     Adm-clerical  Not-in-family  White  Male   \n",
       "1  Married-civ-spouse  Exec-managerial        Husband  White  Male   \n",
       "\n",
       "   capital-gain  capital-loss  hours-per-week native-country salary  \n",
       "0          2174             0              40  United-States  <=50K  \n",
       "1             0             0              13  United-States  <=50K  "
      ]
     },
     "execution_count": 9,
     "metadata": {},
     "output_type": "execute_result"
    }
   ],
   "source": [
    "df.head(2)"
   ]
  },
  {
   "cell_type": "markdown",
   "id": "225d199d-4a8a-4aca-b83d-a5f9873f08d6",
   "metadata": {},
   "source": [
    "# How many of each race are represented in this dataset? This should be a Pandas series with race names as the index labels."
   ]
  },
  {
   "cell_type": "code",
   "execution_count": 14,
   "id": "222b551b-e961-4983-82d8-db3d9a4ec0d5",
   "metadata": {},
   "outputs": [
    {
     "data": {
      "text/plain": [
       "race\n",
       "White                 27816\n",
       "Black                  3124\n",
       "Asian-Pac-Islander     1039\n",
       "Amer-Indian-Eskimo      311\n",
       "Other                   271\n",
       "Name: count, dtype: int64"
      ]
     },
     "execution_count": 14,
     "metadata": {},
     "output_type": "execute_result"
    }
   ],
   "source": [
    "race_count = df['race'].value_counts()\n",
    "race_count"
   ]
  },
  {
   "cell_type": "markdown",
   "id": "81a154df-79d1-43eb-9f6c-a80eeffe1935",
   "metadata": {},
   "source": [
    "# What is the average age of men?"
   ]
  },
  {
   "cell_type": "code",
   "execution_count": 17,
   "id": "72c2c81a-200c-4ad7-bb00-8e51de3a5627",
   "metadata": {},
   "outputs": [
    {
     "data": {
      "text/plain": [
       "np.float64(39.4)"
      ]
     },
     "execution_count": 17,
     "metadata": {},
     "output_type": "execute_result"
    }
   ],
   "source": [
    "average_age_men = round(df[df['sex'] == 'Male']['age'].mean(),1)\n",
    "average_age_men"
   ]
  },
  {
   "cell_type": "markdown",
   "id": "72d54bb4-78b8-4de6-96ae-889c2d68d641",
   "metadata": {},
   "source": [
    "# What is the percentage of people who have a Bachelor's degree?"
   ]
  },
  {
   "cell_type": "code",
   "execution_count": 25,
   "id": "6e355460-4895-4a98-84b2-d47839521e6e",
   "metadata": {},
   "outputs": [
    {
     "data": {
      "text/plain": [
       "np.float64(16.4)"
      ]
     },
     "execution_count": 25,
     "metadata": {},
     "output_type": "execute_result"
    }
   ],
   "source": [
    "round((df['education'] == 'Bachelors').sum()/df.shape[0]*100,1)"
   ]
  },
  {
   "cell_type": "code",
   "execution_count": 35,
   "id": "eecd731e-a14b-4121-9da7-b3f607a8526a",
   "metadata": {},
   "outputs": [
    {
     "data": {
      "text/plain": [
       "np.int64(25070)"
      ]
     },
     "execution_count": 35,
     "metadata": {},
     "output_type": "execute_result"
    }
   ],
   "source": [
    "# with and without `Bachelors`, `Masters`, or `Doctorate`\n",
    "higher_education = df['education'].isin(['Bachelors', 'Masters', 'Doctorate'])\n",
    "lower_education = ~df['education'].isin(['Bachelors', 'Masters', 'Doctorate'])\n",
    "lower_education.sum()"
   ]
  },
  {
   "cell_type": "code",
   "execution_count": 38,
   "id": "31f69f4e-dd64-4d41-a8ca-7181e41c333b",
   "metadata": {},
   "outputs": [
    {
     "name": "stdout",
     "output_type": "stream",
     "text": [
      "46.5\n",
      "17.4\n"
     ]
    }
   ],
   "source": [
    "# percentage with salary >50K\n",
    "higher_education_rich =  round((df[higher_education]['salary'] == '>50K').sum()/higher_education.sum()*100,1)\n",
    "lower_education_rich = round((df[lower_education]['salary'] == '>50K').sum()/lower_education.sum()*100,1)\n",
    "print(higher_education_rich)\n",
    "print(lower_education_rich)"
   ]
  },
  {
   "cell_type": "code",
   "execution_count": 40,
   "id": "82aa61b2-7376-4a12-8672-b86f728241ee",
   "metadata": {},
   "outputs": [
    {
     "data": {
      "text/plain": [
       "np.int64(1)"
      ]
     },
     "execution_count": 40,
     "metadata": {},
     "output_type": "execute_result"
    }
   ],
   "source": [
    "# What is the minimum number of hours a person works per week (hours-per-week feature)?\n",
    "min_work_hours = df['hours-per-week'].min()\n",
    "min_work_hours"
   ]
  },
  {
   "cell_type": "code",
   "execution_count": 43,
   "id": "4d9b1627-351a-4724-a36d-874b627b9383",
   "metadata": {},
   "outputs": [
    {
     "data": {
      "text/plain": [
       "np.int64(20)"
      ]
     },
     "execution_count": 43,
     "metadata": {},
     "output_type": "execute_result"
    }
   ],
   "source": [
    "# What percentage of the people who work the minimum number of hours per week have a salary of >50K?\n",
    "num_min_workers =  df[df['hours-per-week'] == min_work_hours]\n",
    "num_min_workers\n",
    "(df['hours-per-week'] == min_work_hours).sum()"
   ]
  },
  {
   "cell_type": "code",
   "execution_count": 54,
   "id": "e3be0565-70c1-40b7-955e-dfa4306f8d5a",
   "metadata": {},
   "outputs": [
    {
     "data": {
      "text/plain": [
       "np.float64(10.0)"
      ]
     },
     "execution_count": 54,
     "metadata": {},
     "output_type": "execute_result"
    }
   ],
   "source": [
    "rich_percentage = round((num_min_workers['salary'] == '>50K').sum()/len(num_min_workers)*100,1)\n",
    "rich_percentage"
   ]
  },
  {
   "cell_type": "code",
   "execution_count": 60,
   "id": "643079a1-0831-44c0-83e2-6bdf695bc520",
   "metadata": {},
   "outputs": [
    {
     "data": {
      "text/plain": [
       "native-country\n",
       "United-States         7171\n",
       "?                      146\n",
       "Philippines             61\n",
       "Germany                 44\n",
       "India                   40\n",
       "Canada                  39\n",
       "Mexico                  33\n",
       "England                 30\n",
       "Cuba                    25\n",
       "Italy                   25\n",
       "Japan                   24\n",
       "Taiwan                  20\n",
       "China                   20\n",
       "Iran                    18\n",
       "South                   16\n",
       "Poland                  12\n",
       "France                  12\n",
       "Puerto-Rico             12\n",
       "Jamaica                 10\n",
       "El-Salvador              9\n",
       "Greece                   8\n",
       "Cambodia                 7\n",
       "Hong                     6\n",
       "Yugoslavia               6\n",
       "Vietnam                  5\n",
       "Ireland                  5\n",
       "Portugal                 4\n",
       "Ecuador                  4\n",
       "Haiti                    4\n",
       "Scotland                 3\n",
       "Guatemala                3\n",
       "Thailand                 3\n",
       "Hungary                  3\n",
       "Columbia                 2\n",
       "Peru                     2\n",
       "Dominican-Republic       2\n",
       "Trinadad&Tobago          2\n",
       "Nicaragua                2\n",
       "Laos                     2\n",
       "Honduras                 1\n",
       "Name: count, dtype: int64"
      ]
     },
     "execution_count": 60,
     "metadata": {},
     "output_type": "execute_result"
    }
   ],
   "source": [
    "# What country has the highest percentage of people that earn >50K?\n",
    "# 1. Calculate the number of people earning >50K per country\n",
    "country_50K = df[df['salary'] == '>50K']['native-country'].value_counts()\n",
    "country_50K\n"
   ]
  },
  {
   "cell_type": "code",
   "execution_count": 61,
   "id": "8c276a78-2a04-46a2-ada2-87f002a155e5",
   "metadata": {},
   "outputs": [
    {
     "data": {
      "text/plain": [
       "native-country\n",
       "United-States                 29170\n",
       "Mexico                          643\n",
       "?                               583\n",
       "Philippines                     198\n",
       "Germany                         137\n",
       "Canada                          121\n",
       "Puerto-Rico                     114\n",
       "El-Salvador                     106\n",
       "India                           100\n",
       "Cuba                             95\n",
       "England                          90\n",
       "Jamaica                          81\n",
       "South                            80\n",
       "China                            75\n",
       "Italy                            73\n",
       "Dominican-Republic               70\n",
       "Vietnam                          67\n",
       "Guatemala                        64\n",
       "Japan                            62\n",
       "Poland                           60\n",
       "Columbia                         59\n",
       "Taiwan                           51\n",
       "Haiti                            44\n",
       "Iran                             43\n",
       "Portugal                         37\n",
       "Nicaragua                        34\n",
       "Peru                             31\n",
       "France                           29\n",
       "Greece                           29\n",
       "Ecuador                          28\n",
       "Ireland                          24\n",
       "Hong                             20\n",
       "Trinadad&Tobago                  19\n",
       "Cambodia                         19\n",
       "Thailand                         18\n",
       "Laos                             18\n",
       "Yugoslavia                       16\n",
       "Outlying-US(Guam-USVI-etc)       14\n",
       "Honduras                         13\n",
       "Hungary                          13\n",
       "Scotland                         12\n",
       "Holand-Netherlands                1\n",
       "Name: count, dtype: int64"
      ]
     },
     "execution_count": 61,
     "metadata": {},
     "output_type": "execute_result"
    }
   ],
   "source": [
    "# 2. Calculate the total number of people per country\n",
    "country_total = df['native-country'].value_counts()\n",
    "country_total\n"
   ]
  },
  {
   "cell_type": "code",
   "execution_count": 62,
   "id": "104aba19-2ddc-4397-901b-27c7fcc22037",
   "metadata": {},
   "outputs": [
    {
     "data": {
      "text/plain": [
       "native-country\n",
       "?                             25.042882\n",
       "Cambodia                      36.842105\n",
       "Canada                        32.231405\n",
       "China                         26.666667\n",
       "Columbia                       3.389831\n",
       "Cuba                          26.315789\n",
       "Dominican-Republic             2.857143\n",
       "Ecuador                       14.285714\n",
       "El-Salvador                    8.490566\n",
       "England                       33.333333\n",
       "France                        41.379310\n",
       "Germany                       32.116788\n",
       "Greece                        27.586207\n",
       "Guatemala                      4.687500\n",
       "Haiti                          9.090909\n",
       "Holand-Netherlands                  NaN\n",
       "Honduras                       7.692308\n",
       "Hong                          30.000000\n",
       "Hungary                       23.076923\n",
       "India                         40.000000\n",
       "Iran                          41.860465\n",
       "Ireland                       20.833333\n",
       "Italy                         34.246575\n",
       "Jamaica                       12.345679\n",
       "Japan                         38.709677\n",
       "Laos                          11.111111\n",
       "Mexico                         5.132193\n",
       "Nicaragua                      5.882353\n",
       "Outlying-US(Guam-USVI-etc)          NaN\n",
       "Peru                           6.451613\n",
       "Philippines                   30.808081\n",
       "Poland                        20.000000\n",
       "Portugal                      10.810811\n",
       "Puerto-Rico                   10.526316\n",
       "Scotland                      25.000000\n",
       "South                         20.000000\n",
       "Taiwan                        39.215686\n",
       "Thailand                      16.666667\n",
       "Trinadad&Tobago               10.526316\n",
       "United-States                 24.583476\n",
       "Vietnam                        7.462687\n",
       "Yugoslavia                    37.500000\n",
       "Name: count, dtype: float64"
      ]
     },
     "execution_count": 62,
     "metadata": {},
     "output_type": "execute_result"
    }
   ],
   "source": [
    "# 3. Calculate the percentage of people earning >50K per country\n",
    "country_percentage_50K = (country_50K / country_total) * 100\n",
    "\n",
    "country_percentage_50K"
   ]
  },
  {
   "cell_type": "code",
   "execution_count": 63,
   "id": "4e3f036e-ad58-4d71-b6a1-755447b9a6cf",
   "metadata": {},
   "outputs": [
    {
     "data": {
      "text/plain": [
       "'Iran'"
      ]
     },
     "execution_count": 63,
     "metadata": {},
     "output_type": "execute_result"
    }
   ],
   "source": [
    "# 4. Identify the country with the highest percentage of people earning >50K\n",
    "highest_earning_country = country_percentage_50K.idxmax()\n",
    "highest_earning_country"
   ]
  },
  {
   "cell_type": "code",
   "execution_count": 66,
   "id": "9e5fd13d-b54f-4cb5-b1b4-6a6371cf87d6",
   "metadata": {},
   "outputs": [
    {
     "data": {
      "text/plain": [
       "np.float64(41.9)"
      ]
     },
     "execution_count": 66,
     "metadata": {},
     "output_type": "execute_result"
    }
   ],
   "source": [
    "highest_earning_country_percentage = round(country_percentage_50K.max(),1)\n",
    "highest_earning_country_percentage"
   ]
  },
  {
   "cell_type": "code",
   "execution_count": 71,
   "id": "519c1d56-0073-48d4-a824-2e458f518ba0",
   "metadata": {
    "scrolled": true
   },
   "outputs": [],
   "source": [
    "# Identify the most popular occupation for those who earn >50K in India.\n",
    "india_rich=df[(df['native-country'] == 'India') & (df['salary'] == '>50K')]"
   ]
  },
  {
   "cell_type": "code",
   "execution_count": 82,
   "id": "b52cd7b2-0359-41b9-b0b5-fc94cad20403",
   "metadata": {},
   "outputs": [
    {
     "data": {
      "text/plain": [
       "'Prof-specialty'"
      ]
     },
     "execution_count": 82,
     "metadata": {},
     "output_type": "execute_result"
    }
   ],
   "source": [
    "india_rich_occu= india_rich['occupation'].value_counts()\n",
    "top_IN_occupation = india_rich_occu.idxmax()\n",
    "top_IN_occupation"
   ]
  },
  {
   "cell_type": "code",
   "execution_count": null,
   "id": "806560ca-f207-4b91-bdfb-0b75ce9e9024",
   "metadata": {},
   "outputs": [],
   "source": []
  }
 ],
 "metadata": {
  "kernelspec": {
   "display_name": "Python 3 (ipykernel)",
   "language": "python",
   "name": "python3"
  },
  "language_info": {
   "codemirror_mode": {
    "name": "ipython",
    "version": 3
   },
   "file_extension": ".py",
   "mimetype": "text/x-python",
   "name": "python",
   "nbconvert_exporter": "python",
   "pygments_lexer": "ipython3",
   "version": "3.12.5"
  }
 },
 "nbformat": 4,
 "nbformat_minor": 5
}
